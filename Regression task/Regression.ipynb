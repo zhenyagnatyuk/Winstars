{
 "cells": [
  {
   "cell_type": "code",
   "execution_count": 28,
   "metadata": {},
   "outputs": [],
   "source": [
    "import pandas as pd\n",
    "import optuna\n",
    "from optuna.samplers import TPESampler\n",
    "import matplotlib\n",
    "from scipy import stats\n",
    "from sklearn import preprocessing\n",
    "from sklearn.model_selection import train_test_split\n",
    "from xgboost import XGBRegressor\n",
    "from sklearn.metrics import mean_squared_error\n",
    "import numpy as np\n",
    "import plotly.express as px"
   ]
  },
  {
   "cell_type": "markdown",
   "metadata": {},
   "source": [
    "We have 52 columns with int and float values, let's look at the data"
   ]
  },
  {
   "cell_type": "code",
   "execution_count": 47,
   "metadata": {
    "scrolled": false
   },
   "outputs": [
    {
     "name": "stdout",
     "output_type": "stream",
     "text": [
      "<class 'pandas.core.frame.DataFrame'>\n",
      "RangeIndex: 90000 entries, 0 to 89999\n",
      "Data columns (total 54 columns):\n",
      " #   Column  Non-Null Count  Dtype  \n",
      "---  ------  --------------  -----  \n",
      " 0   0       90000 non-null  int64  \n",
      " 1   1       90000 non-null  int64  \n",
      " 2   2       90000 non-null  int64  \n",
      " 3   3       90000 non-null  int64  \n",
      " 4   4       90000 non-null  int64  \n",
      " 5   5       90000 non-null  int64  \n",
      " 6   6       90000 non-null  float64\n",
      " 7   7       90000 non-null  float64\n",
      " 8   8       90000 non-null  int64  \n",
      " 9   9       90000 non-null  int64  \n",
      " 10  10      90000 non-null  int64  \n",
      " 11  11      90000 non-null  int64  \n",
      " 12  12      90000 non-null  int64  \n",
      " 13  13      90000 non-null  float64\n",
      " 14  14      90000 non-null  float64\n",
      " 15  15      90000 non-null  float64\n",
      " 16  16      90000 non-null  float64\n",
      " 17  17      90000 non-null  float64\n",
      " 18  18      90000 non-null  float64\n",
      " 19  19      90000 non-null  float64\n",
      " 20  20      90000 non-null  float64\n",
      " 21  21      90000 non-null  float64\n",
      " 22  22      90000 non-null  float64\n",
      " 23  23      90000 non-null  float64\n",
      " 24  24      90000 non-null  float64\n",
      " 25  25      90000 non-null  float64\n",
      " 26  26      90000 non-null  float64\n",
      " 27  27      90000 non-null  float64\n",
      " 28  28      90000 non-null  float64\n",
      " 29  29      90000 non-null  float64\n",
      " 30  30      90000 non-null  float64\n",
      " 31  31      90000 non-null  float64\n",
      " 32  32      90000 non-null  float64\n",
      " 33  33      90000 non-null  float64\n",
      " 34  34      90000 non-null  float64\n",
      " 35  35      90000 non-null  float64\n",
      " 36  36      90000 non-null  float64\n",
      " 37  37      90000 non-null  float64\n",
      " 38  38      90000 non-null  float64\n",
      " 39  39      90000 non-null  float64\n",
      " 40  40      90000 non-null  float64\n",
      " 41  41      90000 non-null  float64\n",
      " 42  42      90000 non-null  float64\n",
      " 43  43      90000 non-null  float64\n",
      " 44  44      90000 non-null  float64\n",
      " 45  45      90000 non-null  float64\n",
      " 46  46      90000 non-null  float64\n",
      " 47  47      90000 non-null  float64\n",
      " 48  48      90000 non-null  float64\n",
      " 49  49      90000 non-null  float64\n",
      " 50  50      90000 non-null  float64\n",
      " 51  51      90000 non-null  float64\n",
      " 52  52      90000 non-null  float64\n",
      " 53  target  90000 non-null  float64\n",
      "dtypes: float64(43), int64(11)\n",
      "memory usage: 37.1 MB\n"
     ]
    }
   ],
   "source": [
    "data = pd.read_csv('internship_train.csv')\n",
    "data.info()"
   ]
  },
  {
   "cell_type": "code",
   "execution_count": 48,
   "metadata": {
    "scrolled": true
   },
   "outputs": [
    {
     "data": {
      "text/html": [
       "<div>\n",
       "<style scoped>\n",
       "    .dataframe tbody tr th:only-of-type {\n",
       "        vertical-align: middle;\n",
       "    }\n",
       "\n",
       "    .dataframe tbody tr th {\n",
       "        vertical-align: top;\n",
       "    }\n",
       "\n",
       "    .dataframe thead th {\n",
       "        text-align: right;\n",
       "    }\n",
       "</style>\n",
       "<table border=\"1\" class=\"dataframe\">\n",
       "  <thead>\n",
       "    <tr style=\"text-align: right;\">\n",
       "      <th></th>\n",
       "      <th>0</th>\n",
       "      <th>1</th>\n",
       "      <th>2</th>\n",
       "      <th>3</th>\n",
       "      <th>4</th>\n",
       "      <th>5</th>\n",
       "      <th>6</th>\n",
       "      <th>7</th>\n",
       "      <th>8</th>\n",
       "      <th>9</th>\n",
       "      <th>...</th>\n",
       "      <th>44</th>\n",
       "      <th>45</th>\n",
       "      <th>46</th>\n",
       "      <th>47</th>\n",
       "      <th>48</th>\n",
       "      <th>49</th>\n",
       "      <th>50</th>\n",
       "      <th>51</th>\n",
       "      <th>52</th>\n",
       "      <th>target</th>\n",
       "    </tr>\n",
       "  </thead>\n",
       "  <tbody>\n",
       "    <tr>\n",
       "      <th>0</th>\n",
       "      <td>236</td>\n",
       "      <td>488</td>\n",
       "      <td>16</td>\n",
       "      <td>221</td>\n",
       "      <td>382</td>\n",
       "      <td>97</td>\n",
       "      <td>-4.472136</td>\n",
       "      <td>0.107472</td>\n",
       "      <td>0</td>\n",
       "      <td>132</td>\n",
       "      <td>...</td>\n",
       "      <td>13.340874</td>\n",
       "      <td>0.870542</td>\n",
       "      <td>1.962937</td>\n",
       "      <td>7.466666</td>\n",
       "      <td>11.547794</td>\n",
       "      <td>8.822916</td>\n",
       "      <td>9.046424</td>\n",
       "      <td>7.895535</td>\n",
       "      <td>11.010677</td>\n",
       "      <td>20.107472</td>\n",
       "    </tr>\n",
       "    <tr>\n",
       "      <th>1</th>\n",
       "      <td>386</td>\n",
       "      <td>206</td>\n",
       "      <td>357</td>\n",
       "      <td>232</td>\n",
       "      <td>1</td>\n",
       "      <td>198</td>\n",
       "      <td>7.810250</td>\n",
       "      <td>0.763713</td>\n",
       "      <td>1</td>\n",
       "      <td>143</td>\n",
       "      <td>...</td>\n",
       "      <td>12.484882</td>\n",
       "      <td>7.168680</td>\n",
       "      <td>2.885415</td>\n",
       "      <td>12.413973</td>\n",
       "      <td>10.260494</td>\n",
       "      <td>10.091351</td>\n",
       "      <td>9.270888</td>\n",
       "      <td>3.173994</td>\n",
       "      <td>13.921871</td>\n",
       "      <td>61.763713</td>\n",
       "    </tr>\n",
       "    <tr>\n",
       "      <th>2</th>\n",
       "      <td>429</td>\n",
       "      <td>49</td>\n",
       "      <td>481</td>\n",
       "      <td>111</td>\n",
       "      <td>111</td>\n",
       "      <td>146</td>\n",
       "      <td>8.602325</td>\n",
       "      <td>0.651162</td>\n",
       "      <td>1</td>\n",
       "      <td>430</td>\n",
       "      <td>...</td>\n",
       "      <td>14.030257</td>\n",
       "      <td>0.394970</td>\n",
       "      <td>8.160625</td>\n",
       "      <td>12.592059</td>\n",
       "      <td>8.937577</td>\n",
       "      <td>2.265191</td>\n",
       "      <td>11.255721</td>\n",
       "      <td>12.794841</td>\n",
       "      <td>12.080951</td>\n",
       "      <td>74.651162</td>\n",
       "    </tr>\n",
       "    <tr>\n",
       "      <th>3</th>\n",
       "      <td>414</td>\n",
       "      <td>350</td>\n",
       "      <td>481</td>\n",
       "      <td>370</td>\n",
       "      <td>208</td>\n",
       "      <td>158</td>\n",
       "      <td>8.306624</td>\n",
       "      <td>0.424645</td>\n",
       "      <td>1</td>\n",
       "      <td>340</td>\n",
       "      <td>...</td>\n",
       "      <td>2.789577</td>\n",
       "      <td>6.416708</td>\n",
       "      <td>10.549814</td>\n",
       "      <td>11.456437</td>\n",
       "      <td>6.468099</td>\n",
       "      <td>2.519049</td>\n",
       "      <td>0.258284</td>\n",
       "      <td>9.317696</td>\n",
       "      <td>5.383098</td>\n",
       "      <td>69.424645</td>\n",
       "    </tr>\n",
       "    <tr>\n",
       "      <th>4</th>\n",
       "      <td>318</td>\n",
       "      <td>359</td>\n",
       "      <td>20</td>\n",
       "      <td>218</td>\n",
       "      <td>317</td>\n",
       "      <td>301</td>\n",
       "      <td>8.124038</td>\n",
       "      <td>0.767304</td>\n",
       "      <td>1</td>\n",
       "      <td>212</td>\n",
       "      <td>...</td>\n",
       "      <td>1.886560</td>\n",
       "      <td>1.919999</td>\n",
       "      <td>2.268203</td>\n",
       "      <td>0.149421</td>\n",
       "      <td>4.105907</td>\n",
       "      <td>10.416291</td>\n",
       "      <td>6.816217</td>\n",
       "      <td>8.586960</td>\n",
       "      <td>4.512419</td>\n",
       "      <td>66.767304</td>\n",
       "    </tr>\n",
       "  </tbody>\n",
       "</table>\n",
       "<p>5 rows × 54 columns</p>\n",
       "</div>"
      ],
      "text/plain": [
       "     0    1    2    3    4    5         6         7  8    9  ...         44  \\\n",
       "0  236  488   16  221  382   97 -4.472136  0.107472  0  132  ...  13.340874   \n",
       "1  386  206  357  232    1  198  7.810250  0.763713  1  143  ...  12.484882   \n",
       "2  429   49  481  111  111  146  8.602325  0.651162  1  430  ...  14.030257   \n",
       "3  414  350  481  370  208  158  8.306624  0.424645  1  340  ...   2.789577   \n",
       "4  318  359   20  218  317  301  8.124038  0.767304  1  212  ...   1.886560   \n",
       "\n",
       "         45         46         47         48         49         50         51  \\\n",
       "0  0.870542   1.962937   7.466666  11.547794   8.822916   9.046424   7.895535   \n",
       "1  7.168680   2.885415  12.413973  10.260494  10.091351   9.270888   3.173994   \n",
       "2  0.394970   8.160625  12.592059   8.937577   2.265191  11.255721  12.794841   \n",
       "3  6.416708  10.549814  11.456437   6.468099   2.519049   0.258284   9.317696   \n",
       "4  1.919999   2.268203   0.149421   4.105907  10.416291   6.816217   8.586960   \n",
       "\n",
       "          52     target  \n",
       "0  11.010677  20.107472  \n",
       "1  13.921871  61.763713  \n",
       "2  12.080951  74.651162  \n",
       "3   5.383098  69.424645  \n",
       "4   4.512419  66.767304  \n",
       "\n",
       "[5 rows x 54 columns]"
      ]
     },
     "execution_count": 48,
     "metadata": {},
     "output_type": "execute_result"
    }
   ],
   "source": [
    "data.head()"
   ]
  },
  {
   "cell_type": "markdown",
   "metadata": {},
   "source": [
    "Here we can see, that we have a couple of similar columns by their statistics, we also have just one column with negative values(6) and one categorical column(8). "
   ]
  },
  {
   "cell_type": "code",
   "execution_count": 46,
   "metadata": {
    "scrolled": false
   },
   "outputs": [
    {
     "data": {
      "text/html": [
       "<div>\n",
       "<style scoped>\n",
       "    .dataframe tbody tr th:only-of-type {\n",
       "        vertical-align: middle;\n",
       "    }\n",
       "\n",
       "    .dataframe tbody tr th {\n",
       "        vertical-align: top;\n",
       "    }\n",
       "\n",
       "    .dataframe thead th {\n",
       "        text-align: right;\n",
       "    }\n",
       "</style>\n",
       "<table border=\"1\" class=\"dataframe\">\n",
       "  <thead>\n",
       "    <tr style=\"text-align: right;\">\n",
       "      <th></th>\n",
       "      <th>mean</th>\n",
       "      <th>std</th>\n",
       "      <th>min</th>\n",
       "      <th>max</th>\n",
       "    </tr>\n",
       "  </thead>\n",
       "  <tbody>\n",
       "    <tr>\n",
       "      <th>0</th>\n",
       "      <td>249.423944</td>\n",
       "      <td>144.336393</td>\n",
       "      <td>0.000000</td>\n",
       "      <td>499.000000</td>\n",
       "    </tr>\n",
       "    <tr>\n",
       "      <th>1</th>\n",
       "      <td>250.236267</td>\n",
       "      <td>144.022200</td>\n",
       "      <td>0.000000</td>\n",
       "      <td>499.000000</td>\n",
       "    </tr>\n",
       "    <tr>\n",
       "      <th>2</th>\n",
       "      <td>248.637289</td>\n",
       "      <td>144.107577</td>\n",
       "      <td>0.000000</td>\n",
       "      <td>499.000000</td>\n",
       "    </tr>\n",
       "    <tr>\n",
       "      <th>3</th>\n",
       "      <td>249.736600</td>\n",
       "      <td>144.284945</td>\n",
       "      <td>0.000000</td>\n",
       "      <td>499.000000</td>\n",
       "    </tr>\n",
       "    <tr>\n",
       "      <th>4</th>\n",
       "      <td>249.436178</td>\n",
       "      <td>143.941581</td>\n",
       "      <td>0.000000</td>\n",
       "      <td>499.000000</td>\n",
       "    </tr>\n",
       "    <tr>\n",
       "      <th>5</th>\n",
       "      <td>249.656167</td>\n",
       "      <td>144.329168</td>\n",
       "      <td>0.000000</td>\n",
       "      <td>499.000000</td>\n",
       "    </tr>\n",
       "    <tr>\n",
       "      <th>6</th>\n",
       "      <td>-0.011402</td>\n",
       "      <td>7.038171</td>\n",
       "      <td>-9.949874</td>\n",
       "      <td>9.949874</td>\n",
       "    </tr>\n",
       "    <tr>\n",
       "      <th>7</th>\n",
       "      <td>0.498548</td>\n",
       "      <td>0.288682</td>\n",
       "      <td>0.000014</td>\n",
       "      <td>0.999987</td>\n",
       "    </tr>\n",
       "    <tr>\n",
       "      <th>8</th>\n",
       "      <td>0.499189</td>\n",
       "      <td>0.500002</td>\n",
       "      <td>0.000000</td>\n",
       "      <td>1.000000</td>\n",
       "    </tr>\n",
       "    <tr>\n",
       "      <th>9</th>\n",
       "      <td>249.842033</td>\n",
       "      <td>144.612718</td>\n",
       "      <td>0.000000</td>\n",
       "      <td>499.000000</td>\n",
       "    </tr>\n",
       "    <tr>\n",
       "      <th>10</th>\n",
       "      <td>249.818967</td>\n",
       "      <td>144.363827</td>\n",
       "      <td>0.000000</td>\n",
       "      <td>499.000000</td>\n",
       "    </tr>\n",
       "    <tr>\n",
       "      <th>11</th>\n",
       "      <td>249.346778</td>\n",
       "      <td>144.476128</td>\n",
       "      <td>0.000000</td>\n",
       "      <td>499.000000</td>\n",
       "    </tr>\n",
       "    <tr>\n",
       "      <th>12</th>\n",
       "      <td>249.899900</td>\n",
       "      <td>144.310495</td>\n",
       "      <td>0.000000</td>\n",
       "      <td>499.000000</td>\n",
       "    </tr>\n",
       "    <tr>\n",
       "      <th>13</th>\n",
       "      <td>7.483940</td>\n",
       "      <td>4.330908</td>\n",
       "      <td>0.000095</td>\n",
       "      <td>14.999920</td>\n",
       "    </tr>\n",
       "    <tr>\n",
       "      <th>14</th>\n",
       "      <td>7.498037</td>\n",
       "      <td>4.318388</td>\n",
       "      <td>0.000252</td>\n",
       "      <td>14.999938</td>\n",
       "    </tr>\n",
       "    <tr>\n",
       "      <th>15</th>\n",
       "      <td>7.496259</td>\n",
       "      <td>4.338732</td>\n",
       "      <td>0.000190</td>\n",
       "      <td>14.999660</td>\n",
       "    </tr>\n",
       "    <tr>\n",
       "      <th>16</th>\n",
       "      <td>7.501635</td>\n",
       "      <td>4.345618</td>\n",
       "      <td>0.000192</td>\n",
       "      <td>14.999979</td>\n",
       "    </tr>\n",
       "    <tr>\n",
       "      <th>17</th>\n",
       "      <td>7.486463</td>\n",
       "      <td>4.318031</td>\n",
       "      <td>0.000067</td>\n",
       "      <td>14.999840</td>\n",
       "    </tr>\n",
       "    <tr>\n",
       "      <th>18</th>\n",
       "      <td>7.523043</td>\n",
       "      <td>4.323500</td>\n",
       "      <td>0.000229</td>\n",
       "      <td>14.999857</td>\n",
       "    </tr>\n",
       "    <tr>\n",
       "      <th>19</th>\n",
       "      <td>7.475585</td>\n",
       "      <td>4.327327</td>\n",
       "      <td>0.000125</td>\n",
       "      <td>14.999634</td>\n",
       "    </tr>\n",
       "    <tr>\n",
       "      <th>20</th>\n",
       "      <td>7.494835</td>\n",
       "      <td>4.325447</td>\n",
       "      <td>0.000382</td>\n",
       "      <td>14.999953</td>\n",
       "    </tr>\n",
       "    <tr>\n",
       "      <th>21</th>\n",
       "      <td>7.503939</td>\n",
       "      <td>4.330159</td>\n",
       "      <td>0.000398</td>\n",
       "      <td>14.999483</td>\n",
       "    </tr>\n",
       "    <tr>\n",
       "      <th>22</th>\n",
       "      <td>7.507724</td>\n",
       "      <td>4.332599</td>\n",
       "      <td>0.000140</td>\n",
       "      <td>14.999762</td>\n",
       "    </tr>\n",
       "    <tr>\n",
       "      <th>23</th>\n",
       "      <td>7.508681</td>\n",
       "      <td>4.328966</td>\n",
       "      <td>0.000382</td>\n",
       "      <td>14.999875</td>\n",
       "    </tr>\n",
       "    <tr>\n",
       "      <th>24</th>\n",
       "      <td>7.472421</td>\n",
       "      <td>4.345228</td>\n",
       "      <td>0.000129</td>\n",
       "      <td>14.999987</td>\n",
       "    </tr>\n",
       "    <tr>\n",
       "      <th>25</th>\n",
       "      <td>7.519205</td>\n",
       "      <td>4.339104</td>\n",
       "      <td>0.000192</td>\n",
       "      <td>14.999651</td>\n",
       "    </tr>\n",
       "    <tr>\n",
       "      <th>26</th>\n",
       "      <td>7.515753</td>\n",
       "      <td>4.333907</td>\n",
       "      <td>0.000017</td>\n",
       "      <td>14.999995</td>\n",
       "    </tr>\n",
       "    <tr>\n",
       "      <th>27</th>\n",
       "      <td>7.509402</td>\n",
       "      <td>4.331007</td>\n",
       "      <td>0.000080</td>\n",
       "      <td>14.999838</td>\n",
       "    </tr>\n",
       "    <tr>\n",
       "      <th>28</th>\n",
       "      <td>7.496781</td>\n",
       "      <td>4.334982</td>\n",
       "      <td>0.000161</td>\n",
       "      <td>14.999958</td>\n",
       "    </tr>\n",
       "    <tr>\n",
       "      <th>29</th>\n",
       "      <td>7.504014</td>\n",
       "      <td>4.318553</td>\n",
       "      <td>0.000437</td>\n",
       "      <td>14.999841</td>\n",
       "    </tr>\n",
       "    <tr>\n",
       "      <th>30</th>\n",
       "      <td>7.494212</td>\n",
       "      <td>4.327286</td>\n",
       "      <td>0.000041</td>\n",
       "      <td>14.999808</td>\n",
       "    </tr>\n",
       "    <tr>\n",
       "      <th>31</th>\n",
       "      <td>7.490808</td>\n",
       "      <td>4.322672</td>\n",
       "      <td>0.000070</td>\n",
       "      <td>14.999927</td>\n",
       "    </tr>\n",
       "    <tr>\n",
       "      <th>32</th>\n",
       "      <td>7.486936</td>\n",
       "      <td>4.329524</td>\n",
       "      <td>0.000074</td>\n",
       "      <td>14.999896</td>\n",
       "    </tr>\n",
       "    <tr>\n",
       "      <th>33</th>\n",
       "      <td>7.514508</td>\n",
       "      <td>4.329973</td>\n",
       "      <td>0.000111</td>\n",
       "      <td>14.999871</td>\n",
       "    </tr>\n",
       "    <tr>\n",
       "      <th>34</th>\n",
       "      <td>7.491614</td>\n",
       "      <td>4.333144</td>\n",
       "      <td>0.000067</td>\n",
       "      <td>14.999558</td>\n",
       "    </tr>\n",
       "    <tr>\n",
       "      <th>35</th>\n",
       "      <td>7.520193</td>\n",
       "      <td>4.335244</td>\n",
       "      <td>0.000078</td>\n",
       "      <td>14.999898</td>\n",
       "    </tr>\n",
       "    <tr>\n",
       "      <th>36</th>\n",
       "      <td>7.507801</td>\n",
       "      <td>4.329515</td>\n",
       "      <td>0.000018</td>\n",
       "      <td>14.999997</td>\n",
       "    </tr>\n",
       "    <tr>\n",
       "      <th>37</th>\n",
       "      <td>7.493713</td>\n",
       "      <td>4.327480</td>\n",
       "      <td>0.000094</td>\n",
       "      <td>14.999822</td>\n",
       "    </tr>\n",
       "    <tr>\n",
       "      <th>38</th>\n",
       "      <td>7.513840</td>\n",
       "      <td>4.333543</td>\n",
       "      <td>0.000020</td>\n",
       "      <td>14.999958</td>\n",
       "    </tr>\n",
       "    <tr>\n",
       "      <th>39</th>\n",
       "      <td>7.507033</td>\n",
       "      <td>4.327670</td>\n",
       "      <td>0.000106</td>\n",
       "      <td>14.999933</td>\n",
       "    </tr>\n",
       "    <tr>\n",
       "      <th>40</th>\n",
       "      <td>7.479579</td>\n",
       "      <td>4.326175</td>\n",
       "      <td>0.000105</td>\n",
       "      <td>14.999704</td>\n",
       "    </tr>\n",
       "    <tr>\n",
       "      <th>41</th>\n",
       "      <td>7.519826</td>\n",
       "      <td>4.315565</td>\n",
       "      <td>0.000273</td>\n",
       "      <td>14.999940</td>\n",
       "    </tr>\n",
       "    <tr>\n",
       "      <th>42</th>\n",
       "      <td>7.502483</td>\n",
       "      <td>4.333881</td>\n",
       "      <td>0.000315</td>\n",
       "      <td>14.999739</td>\n",
       "    </tr>\n",
       "    <tr>\n",
       "      <th>43</th>\n",
       "      <td>7.512965</td>\n",
       "      <td>4.329929</td>\n",
       "      <td>0.000060</td>\n",
       "      <td>14.999605</td>\n",
       "    </tr>\n",
       "    <tr>\n",
       "      <th>44</th>\n",
       "      <td>7.475155</td>\n",
       "      <td>4.330410</td>\n",
       "      <td>0.000019</td>\n",
       "      <td>14.999900</td>\n",
       "    </tr>\n",
       "    <tr>\n",
       "      <th>45</th>\n",
       "      <td>7.523962</td>\n",
       "      <td>4.321537</td>\n",
       "      <td>0.000040</td>\n",
       "      <td>14.999528</td>\n",
       "    </tr>\n",
       "    <tr>\n",
       "      <th>46</th>\n",
       "      <td>7.508397</td>\n",
       "      <td>4.331761</td>\n",
       "      <td>0.000154</td>\n",
       "      <td>14.999733</td>\n",
       "    </tr>\n",
       "    <tr>\n",
       "      <th>47</th>\n",
       "      <td>7.473322</td>\n",
       "      <td>4.335692</td>\n",
       "      <td>0.000083</td>\n",
       "      <td>14.999478</td>\n",
       "    </tr>\n",
       "    <tr>\n",
       "      <th>48</th>\n",
       "      <td>7.490658</td>\n",
       "      <td>4.332122</td>\n",
       "      <td>0.000367</td>\n",
       "      <td>14.999869</td>\n",
       "    </tr>\n",
       "    <tr>\n",
       "      <th>49</th>\n",
       "      <td>7.474578</td>\n",
       "      <td>4.323035</td>\n",
       "      <td>0.000014</td>\n",
       "      <td>14.999928</td>\n",
       "    </tr>\n",
       "    <tr>\n",
       "      <th>50</th>\n",
       "      <td>7.509206</td>\n",
       "      <td>4.326364</td>\n",
       "      <td>0.000160</td>\n",
       "      <td>14.999948</td>\n",
       "    </tr>\n",
       "    <tr>\n",
       "      <th>51</th>\n",
       "      <td>7.487159</td>\n",
       "      <td>4.324876</td>\n",
       "      <td>0.000147</td>\n",
       "      <td>14.999364</td>\n",
       "    </tr>\n",
       "    <tr>\n",
       "      <th>52</th>\n",
       "      <td>7.513316</td>\n",
       "      <td>4.333080</td>\n",
       "      <td>0.000125</td>\n",
       "      <td>14.999775</td>\n",
       "    </tr>\n",
       "    <tr>\n",
       "      <th>target</th>\n",
       "      <td>50.033981</td>\n",
       "      <td>28.897243</td>\n",
       "      <td>0.002634</td>\n",
       "      <td>99.999482</td>\n",
       "    </tr>\n",
       "  </tbody>\n",
       "</table>\n",
       "</div>"
      ],
      "text/plain": [
       "              mean         std       min         max\n",
       "0       249.423944  144.336393  0.000000  499.000000\n",
       "1       250.236267  144.022200  0.000000  499.000000\n",
       "2       248.637289  144.107577  0.000000  499.000000\n",
       "3       249.736600  144.284945  0.000000  499.000000\n",
       "4       249.436178  143.941581  0.000000  499.000000\n",
       "5       249.656167  144.329168  0.000000  499.000000\n",
       "6        -0.011402    7.038171 -9.949874    9.949874\n",
       "7         0.498548    0.288682  0.000014    0.999987\n",
       "8         0.499189    0.500002  0.000000    1.000000\n",
       "9       249.842033  144.612718  0.000000  499.000000\n",
       "10      249.818967  144.363827  0.000000  499.000000\n",
       "11      249.346778  144.476128  0.000000  499.000000\n",
       "12      249.899900  144.310495  0.000000  499.000000\n",
       "13        7.483940    4.330908  0.000095   14.999920\n",
       "14        7.498037    4.318388  0.000252   14.999938\n",
       "15        7.496259    4.338732  0.000190   14.999660\n",
       "16        7.501635    4.345618  0.000192   14.999979\n",
       "17        7.486463    4.318031  0.000067   14.999840\n",
       "18        7.523043    4.323500  0.000229   14.999857\n",
       "19        7.475585    4.327327  0.000125   14.999634\n",
       "20        7.494835    4.325447  0.000382   14.999953\n",
       "21        7.503939    4.330159  0.000398   14.999483\n",
       "22        7.507724    4.332599  0.000140   14.999762\n",
       "23        7.508681    4.328966  0.000382   14.999875\n",
       "24        7.472421    4.345228  0.000129   14.999987\n",
       "25        7.519205    4.339104  0.000192   14.999651\n",
       "26        7.515753    4.333907  0.000017   14.999995\n",
       "27        7.509402    4.331007  0.000080   14.999838\n",
       "28        7.496781    4.334982  0.000161   14.999958\n",
       "29        7.504014    4.318553  0.000437   14.999841\n",
       "30        7.494212    4.327286  0.000041   14.999808\n",
       "31        7.490808    4.322672  0.000070   14.999927\n",
       "32        7.486936    4.329524  0.000074   14.999896\n",
       "33        7.514508    4.329973  0.000111   14.999871\n",
       "34        7.491614    4.333144  0.000067   14.999558\n",
       "35        7.520193    4.335244  0.000078   14.999898\n",
       "36        7.507801    4.329515  0.000018   14.999997\n",
       "37        7.493713    4.327480  0.000094   14.999822\n",
       "38        7.513840    4.333543  0.000020   14.999958\n",
       "39        7.507033    4.327670  0.000106   14.999933\n",
       "40        7.479579    4.326175  0.000105   14.999704\n",
       "41        7.519826    4.315565  0.000273   14.999940\n",
       "42        7.502483    4.333881  0.000315   14.999739\n",
       "43        7.512965    4.329929  0.000060   14.999605\n",
       "44        7.475155    4.330410  0.000019   14.999900\n",
       "45        7.523962    4.321537  0.000040   14.999528\n",
       "46        7.508397    4.331761  0.000154   14.999733\n",
       "47        7.473322    4.335692  0.000083   14.999478\n",
       "48        7.490658    4.332122  0.000367   14.999869\n",
       "49        7.474578    4.323035  0.000014   14.999928\n",
       "50        7.509206    4.326364  0.000160   14.999948\n",
       "51        7.487159    4.324876  0.000147   14.999364\n",
       "52        7.513316    4.333080  0.000125   14.999775\n",
       "target   50.033981   28.897243  0.002634   99.999482"
      ]
     },
     "execution_count": 46,
     "metadata": {},
     "output_type": "execute_result"
    }
   ],
   "source": [
    "data.describe().T[['mean', 'std', 'min', 'max']]"
   ]
  },
  {
   "cell_type": "markdown",
   "metadata": {},
   "source": [
    "Let's try to build a simple model and look at its score and into feature importance"
   ]
  },
  {
   "cell_type": "code",
   "execution_count": 49,
   "metadata": {},
   "outputs": [],
   "source": [
    "data = pd.read_csv('internship_train.csv')\n",
    "y = data['target']\n",
    "\n",
    "X = data.drop(['target'], axis = 1)\n",
    "\n",
    "\n",
    "X_train, X_test, y_train, y_test = train_test_split(X, y, test_size = 0.1, random_state = 0)"
   ]
  },
  {
   "cell_type": "code",
   "execution_count": 50,
   "metadata": {},
   "outputs": [
    {
     "name": "stdout",
     "output_type": "stream",
     "text": [
      "0.03728025640948753\n"
     ]
    }
   ],
   "source": [
    "model = XGBRegressor(\n",
    "    seed=0\n",
    ")\n",
    "model.fit(X_train, \n",
    "    y_train, \n",
    "    verbose=True)\n",
    "\n",
    "predictions = model.predict(X_test)\n",
    "\n",
    "print(np.sqrt(mean_squared_error(predictions, y_test)))"
   ]
  },
  {
   "cell_type": "markdown",
   "metadata": {},
   "source": [
    "Now we can see, that the most valuable column is 6 and we should also look at 7 column, because it also has a little importance, all other features can be dropped"
   ]
  },
  {
   "cell_type": "code",
   "execution_count": 37,
   "metadata": {
    "scrolled": false
   },
   "outputs": [
    {
     "name": "stdout",
     "output_type": "stream",
     "text": [
      "{6: 0.99989176} {7: 7.972622e-05}\n"
     ]
    },
    {
     "data": {
      "application/vnd.plotly.v1+json": {
       "config": {
        "plotlyServerURL": "https://plot.ly"
       },
       "data": [
        {
         "alignmentgroup": "True",
         "hovertemplate": "feature=%{x}<br>importance=%{y}<extra></extra>",
         "legendgroup": "",
         "marker": {
          "color": "#636efa"
         },
         "name": "",
         "offsetgroup": "",
         "orientation": "v",
         "showlegend": false,
         "textposition": "auto",
         "type": "bar",
         "x": [
          "8",
          "1",
          "22",
          "5",
          "0",
          "31",
          "32",
          "43",
          "13",
          "39",
          "11",
          "16",
          "9",
          "49",
          "15",
          "25",
          "36",
          "24",
          "44",
          "26",
          "21",
          "30",
          "23",
          "40",
          "45",
          "48",
          "10",
          "35",
          "28",
          "42",
          "27",
          "41",
          "3",
          "47",
          "29",
          "14",
          "52",
          "33",
          "4",
          "19",
          "51",
          "12",
          "34",
          "2",
          "46",
          "18",
          "20",
          "37",
          "50",
          "38",
          "17",
          "7",
          "6"
         ],
         "xaxis": "x",
         "y": [
          0,
          6.669972663075896e-06,
          9.893675269267987e-06,
          1.0036372259492055e-05,
          1.005396006803494e-05,
          1.0495684364286717e-05,
          1.2177823009551503e-05,
          1.2192892427265178e-05,
          1.3872338968212716e-05,
          1.4208639186108485e-05,
          1.4659819498774596e-05,
          1.5749872545711696e-05,
          1.711603908916004e-05,
          1.7177173504023813e-05,
          1.7262940673390403e-05,
          1.7791817299439572e-05,
          1.8697928680921905e-05,
          1.9119530406896956e-05,
          1.9518231056281365e-05,
          1.9522740331012756e-05,
          1.9736553440452553e-05,
          2.006063914450351e-05,
          2.0885532649117522e-05,
          2.1149873646209016e-05,
          2.2379581423592754e-05,
          2.297634637216106e-05,
          2.306118949491065e-05,
          2.3510161554440856e-05,
          2.4090033548418432e-05,
          2.439443596813362e-05,
          2.442249024170451e-05,
          2.4804225176922046e-05,
          2.7159243472851813e-05,
          2.986365871038288e-05,
          4.026171154691838e-05,
          4.4640932173933834e-05,
          4.616746446117759e-05,
          5.046040314482525e-05,
          6.403520819731057e-05,
          6.831729842815548e-05,
          7.333550456678495e-05,
          8.05844902060926e-05,
          9.508223593002185e-05,
          0.00010501074575586244,
          0.0001235754752997309,
          0.00012893731764052063,
          0.00018454028759151697,
          0.00022269944020081311,
          0.0002879327512346208,
          0.00031582501833327115,
          0.00032025197288021445,
          0.00797262229025364,
          99.98917388916016
         ],
         "yaxis": "y"
        }
       ],
       "layout": {
        "barmode": "relative",
        "legend": {
         "tracegroupgap": 0
        },
        "margin": {
         "t": 60
        },
        "template": {
         "data": {
          "bar": [
           {
            "error_x": {
             "color": "#2a3f5f"
            },
            "error_y": {
             "color": "#2a3f5f"
            },
            "marker": {
             "line": {
              "color": "#E5ECF6",
              "width": 0.5
             }
            },
            "type": "bar"
           }
          ],
          "barpolar": [
           {
            "marker": {
             "line": {
              "color": "#E5ECF6",
              "width": 0.5
             }
            },
            "type": "barpolar"
           }
          ],
          "carpet": [
           {
            "aaxis": {
             "endlinecolor": "#2a3f5f",
             "gridcolor": "white",
             "linecolor": "white",
             "minorgridcolor": "white",
             "startlinecolor": "#2a3f5f"
            },
            "baxis": {
             "endlinecolor": "#2a3f5f",
             "gridcolor": "white",
             "linecolor": "white",
             "minorgridcolor": "white",
             "startlinecolor": "#2a3f5f"
            },
            "type": "carpet"
           }
          ],
          "choropleth": [
           {
            "colorbar": {
             "outlinewidth": 0,
             "ticks": ""
            },
            "type": "choropleth"
           }
          ],
          "contour": [
           {
            "colorbar": {
             "outlinewidth": 0,
             "ticks": ""
            },
            "colorscale": [
             [
              0,
              "#0d0887"
             ],
             [
              0.1111111111111111,
              "#46039f"
             ],
             [
              0.2222222222222222,
              "#7201a8"
             ],
             [
              0.3333333333333333,
              "#9c179e"
             ],
             [
              0.4444444444444444,
              "#bd3786"
             ],
             [
              0.5555555555555556,
              "#d8576b"
             ],
             [
              0.6666666666666666,
              "#ed7953"
             ],
             [
              0.7777777777777778,
              "#fb9f3a"
             ],
             [
              0.8888888888888888,
              "#fdca26"
             ],
             [
              1,
              "#f0f921"
             ]
            ],
            "type": "contour"
           }
          ],
          "contourcarpet": [
           {
            "colorbar": {
             "outlinewidth": 0,
             "ticks": ""
            },
            "type": "contourcarpet"
           }
          ],
          "heatmap": [
           {
            "colorbar": {
             "outlinewidth": 0,
             "ticks": ""
            },
            "colorscale": [
             [
              0,
              "#0d0887"
             ],
             [
              0.1111111111111111,
              "#46039f"
             ],
             [
              0.2222222222222222,
              "#7201a8"
             ],
             [
              0.3333333333333333,
              "#9c179e"
             ],
             [
              0.4444444444444444,
              "#bd3786"
             ],
             [
              0.5555555555555556,
              "#d8576b"
             ],
             [
              0.6666666666666666,
              "#ed7953"
             ],
             [
              0.7777777777777778,
              "#fb9f3a"
             ],
             [
              0.8888888888888888,
              "#fdca26"
             ],
             [
              1,
              "#f0f921"
             ]
            ],
            "type": "heatmap"
           }
          ],
          "heatmapgl": [
           {
            "colorbar": {
             "outlinewidth": 0,
             "ticks": ""
            },
            "colorscale": [
             [
              0,
              "#0d0887"
             ],
             [
              0.1111111111111111,
              "#46039f"
             ],
             [
              0.2222222222222222,
              "#7201a8"
             ],
             [
              0.3333333333333333,
              "#9c179e"
             ],
             [
              0.4444444444444444,
              "#bd3786"
             ],
             [
              0.5555555555555556,
              "#d8576b"
             ],
             [
              0.6666666666666666,
              "#ed7953"
             ],
             [
              0.7777777777777778,
              "#fb9f3a"
             ],
             [
              0.8888888888888888,
              "#fdca26"
             ],
             [
              1,
              "#f0f921"
             ]
            ],
            "type": "heatmapgl"
           }
          ],
          "histogram": [
           {
            "marker": {
             "colorbar": {
              "outlinewidth": 0,
              "ticks": ""
             }
            },
            "type": "histogram"
           }
          ],
          "histogram2d": [
           {
            "colorbar": {
             "outlinewidth": 0,
             "ticks": ""
            },
            "colorscale": [
             [
              0,
              "#0d0887"
             ],
             [
              0.1111111111111111,
              "#46039f"
             ],
             [
              0.2222222222222222,
              "#7201a8"
             ],
             [
              0.3333333333333333,
              "#9c179e"
             ],
             [
              0.4444444444444444,
              "#bd3786"
             ],
             [
              0.5555555555555556,
              "#d8576b"
             ],
             [
              0.6666666666666666,
              "#ed7953"
             ],
             [
              0.7777777777777778,
              "#fb9f3a"
             ],
             [
              0.8888888888888888,
              "#fdca26"
             ],
             [
              1,
              "#f0f921"
             ]
            ],
            "type": "histogram2d"
           }
          ],
          "histogram2dcontour": [
           {
            "colorbar": {
             "outlinewidth": 0,
             "ticks": ""
            },
            "colorscale": [
             [
              0,
              "#0d0887"
             ],
             [
              0.1111111111111111,
              "#46039f"
             ],
             [
              0.2222222222222222,
              "#7201a8"
             ],
             [
              0.3333333333333333,
              "#9c179e"
             ],
             [
              0.4444444444444444,
              "#bd3786"
             ],
             [
              0.5555555555555556,
              "#d8576b"
             ],
             [
              0.6666666666666666,
              "#ed7953"
             ],
             [
              0.7777777777777778,
              "#fb9f3a"
             ],
             [
              0.8888888888888888,
              "#fdca26"
             ],
             [
              1,
              "#f0f921"
             ]
            ],
            "type": "histogram2dcontour"
           }
          ],
          "mesh3d": [
           {
            "colorbar": {
             "outlinewidth": 0,
             "ticks": ""
            },
            "type": "mesh3d"
           }
          ],
          "parcoords": [
           {
            "line": {
             "colorbar": {
              "outlinewidth": 0,
              "ticks": ""
             }
            },
            "type": "parcoords"
           }
          ],
          "pie": [
           {
            "automargin": true,
            "type": "pie"
           }
          ],
          "scatter": [
           {
            "marker": {
             "colorbar": {
              "outlinewidth": 0,
              "ticks": ""
             }
            },
            "type": "scatter"
           }
          ],
          "scatter3d": [
           {
            "line": {
             "colorbar": {
              "outlinewidth": 0,
              "ticks": ""
             }
            },
            "marker": {
             "colorbar": {
              "outlinewidth": 0,
              "ticks": ""
             }
            },
            "type": "scatter3d"
           }
          ],
          "scattercarpet": [
           {
            "marker": {
             "colorbar": {
              "outlinewidth": 0,
              "ticks": ""
             }
            },
            "type": "scattercarpet"
           }
          ],
          "scattergeo": [
           {
            "marker": {
             "colorbar": {
              "outlinewidth": 0,
              "ticks": ""
             }
            },
            "type": "scattergeo"
           }
          ],
          "scattergl": [
           {
            "marker": {
             "colorbar": {
              "outlinewidth": 0,
              "ticks": ""
             }
            },
            "type": "scattergl"
           }
          ],
          "scattermapbox": [
           {
            "marker": {
             "colorbar": {
              "outlinewidth": 0,
              "ticks": ""
             }
            },
            "type": "scattermapbox"
           }
          ],
          "scatterpolar": [
           {
            "marker": {
             "colorbar": {
              "outlinewidth": 0,
              "ticks": ""
             }
            },
            "type": "scatterpolar"
           }
          ],
          "scatterpolargl": [
           {
            "marker": {
             "colorbar": {
              "outlinewidth": 0,
              "ticks": ""
             }
            },
            "type": "scatterpolargl"
           }
          ],
          "scatterternary": [
           {
            "marker": {
             "colorbar": {
              "outlinewidth": 0,
              "ticks": ""
             }
            },
            "type": "scatterternary"
           }
          ],
          "surface": [
           {
            "colorbar": {
             "outlinewidth": 0,
             "ticks": ""
            },
            "colorscale": [
             [
              0,
              "#0d0887"
             ],
             [
              0.1111111111111111,
              "#46039f"
             ],
             [
              0.2222222222222222,
              "#7201a8"
             ],
             [
              0.3333333333333333,
              "#9c179e"
             ],
             [
              0.4444444444444444,
              "#bd3786"
             ],
             [
              0.5555555555555556,
              "#d8576b"
             ],
             [
              0.6666666666666666,
              "#ed7953"
             ],
             [
              0.7777777777777778,
              "#fb9f3a"
             ],
             [
              0.8888888888888888,
              "#fdca26"
             ],
             [
              1,
              "#f0f921"
             ]
            ],
            "type": "surface"
           }
          ],
          "table": [
           {
            "cells": {
             "fill": {
              "color": "#EBF0F8"
             },
             "line": {
              "color": "white"
             }
            },
            "header": {
             "fill": {
              "color": "#C8D4E3"
             },
             "line": {
              "color": "white"
             }
            },
            "type": "table"
           }
          ]
         },
         "layout": {
          "annotationdefaults": {
           "arrowcolor": "#2a3f5f",
           "arrowhead": 0,
           "arrowwidth": 1
          },
          "coloraxis": {
           "colorbar": {
            "outlinewidth": 0,
            "ticks": ""
           }
          },
          "colorscale": {
           "diverging": [
            [
             0,
             "#8e0152"
            ],
            [
             0.1,
             "#c51b7d"
            ],
            [
             0.2,
             "#de77ae"
            ],
            [
             0.3,
             "#f1b6da"
            ],
            [
             0.4,
             "#fde0ef"
            ],
            [
             0.5,
             "#f7f7f7"
            ],
            [
             0.6,
             "#e6f5d0"
            ],
            [
             0.7,
             "#b8e186"
            ],
            [
             0.8,
             "#7fbc41"
            ],
            [
             0.9,
             "#4d9221"
            ],
            [
             1,
             "#276419"
            ]
           ],
           "sequential": [
            [
             0,
             "#0d0887"
            ],
            [
             0.1111111111111111,
             "#46039f"
            ],
            [
             0.2222222222222222,
             "#7201a8"
            ],
            [
             0.3333333333333333,
             "#9c179e"
            ],
            [
             0.4444444444444444,
             "#bd3786"
            ],
            [
             0.5555555555555556,
             "#d8576b"
            ],
            [
             0.6666666666666666,
             "#ed7953"
            ],
            [
             0.7777777777777778,
             "#fb9f3a"
            ],
            [
             0.8888888888888888,
             "#fdca26"
            ],
            [
             1,
             "#f0f921"
            ]
           ],
           "sequentialminus": [
            [
             0,
             "#0d0887"
            ],
            [
             0.1111111111111111,
             "#46039f"
            ],
            [
             0.2222222222222222,
             "#7201a8"
            ],
            [
             0.3333333333333333,
             "#9c179e"
            ],
            [
             0.4444444444444444,
             "#bd3786"
            ],
            [
             0.5555555555555556,
             "#d8576b"
            ],
            [
             0.6666666666666666,
             "#ed7953"
            ],
            [
             0.7777777777777778,
             "#fb9f3a"
            ],
            [
             0.8888888888888888,
             "#fdca26"
            ],
            [
             1,
             "#f0f921"
            ]
           ]
          },
          "colorway": [
           "#636efa",
           "#EF553B",
           "#00cc96",
           "#ab63fa",
           "#FFA15A",
           "#19d3f3",
           "#FF6692",
           "#B6E880",
           "#FF97FF",
           "#FECB52"
          ],
          "font": {
           "color": "#2a3f5f"
          },
          "geo": {
           "bgcolor": "white",
           "lakecolor": "white",
           "landcolor": "#E5ECF6",
           "showlakes": true,
           "showland": true,
           "subunitcolor": "white"
          },
          "hoverlabel": {
           "align": "left"
          },
          "hovermode": "closest",
          "mapbox": {
           "style": "light"
          },
          "paper_bgcolor": "white",
          "plot_bgcolor": "#E5ECF6",
          "polar": {
           "angularaxis": {
            "gridcolor": "white",
            "linecolor": "white",
            "ticks": ""
           },
           "bgcolor": "#E5ECF6",
           "radialaxis": {
            "gridcolor": "white",
            "linecolor": "white",
            "ticks": ""
           }
          },
          "scene": {
           "xaxis": {
            "backgroundcolor": "#E5ECF6",
            "gridcolor": "white",
            "gridwidth": 2,
            "linecolor": "white",
            "showbackground": true,
            "ticks": "",
            "zerolinecolor": "white"
           },
           "yaxis": {
            "backgroundcolor": "#E5ECF6",
            "gridcolor": "white",
            "gridwidth": 2,
            "linecolor": "white",
            "showbackground": true,
            "ticks": "",
            "zerolinecolor": "white"
           },
           "zaxis": {
            "backgroundcolor": "#E5ECF6",
            "gridcolor": "white",
            "gridwidth": 2,
            "linecolor": "white",
            "showbackground": true,
            "ticks": "",
            "zerolinecolor": "white"
           }
          },
          "shapedefaults": {
           "line": {
            "color": "#2a3f5f"
           }
          },
          "ternary": {
           "aaxis": {
            "gridcolor": "white",
            "linecolor": "white",
            "ticks": ""
           },
           "baxis": {
            "gridcolor": "white",
            "linecolor": "white",
            "ticks": ""
           },
           "bgcolor": "#E5ECF6",
           "caxis": {
            "gridcolor": "white",
            "linecolor": "white",
            "ticks": ""
           }
          },
          "title": {
           "x": 0.05
          },
          "xaxis": {
           "automargin": true,
           "gridcolor": "white",
           "linecolor": "white",
           "ticks": "",
           "title": {
            "standoff": 15
           },
           "zerolinecolor": "white",
           "zerolinewidth": 2
          },
          "yaxis": {
           "automargin": true,
           "gridcolor": "white",
           "linecolor": "white",
           "ticks": "",
           "title": {
            "standoff": 15
           },
           "zerolinecolor": "white",
           "zerolinewidth": 2
          }
         }
        },
        "xaxis": {
         "anchor": "y",
         "domain": [
          0,
          1
         ],
         "title": {
          "text": "feature"
         }
        },
        "yaxis": {
         "anchor": "x",
         "domain": [
          0,
          1
         ],
         "title": {
          "text": "importance"
         }
        }
       }
      },
      "text/html": [
       "<div>                            <div id=\"35e38c47-06a4-4316-bf6f-218805660045\" class=\"plotly-graph-div\" style=\"height:525px; width:100%;\"></div>            <script type=\"text/javascript\">                require([\"plotly\"], function(Plotly) {                    window.PLOTLYENV=window.PLOTLYENV || {};                                    if (document.getElementById(\"35e38c47-06a4-4316-bf6f-218805660045\")) {                    Plotly.newPlot(                        \"35e38c47-06a4-4316-bf6f-218805660045\",                        [{\"alignmentgroup\": \"True\", \"hovertemplate\": \"feature=%{x}<br>importance=%{y}<extra></extra>\", \"legendgroup\": \"\", \"marker\": {\"color\": \"#636efa\"}, \"name\": \"\", \"offsetgroup\": \"\", \"orientation\": \"v\", \"showlegend\": false, \"textposition\": \"auto\", \"type\": \"bar\", \"x\": [\"8\", \"1\", \"22\", \"5\", \"0\", \"31\", \"32\", \"43\", \"13\", \"39\", \"11\", \"16\", \"9\", \"49\", \"15\", \"25\", \"36\", \"24\", \"44\", \"26\", \"21\", \"30\", \"23\", \"40\", \"45\", \"48\", \"10\", \"35\", \"28\", \"42\", \"27\", \"41\", \"3\", \"47\", \"29\", \"14\", \"52\", \"33\", \"4\", \"19\", \"51\", \"12\", \"34\", \"2\", \"46\", \"18\", \"20\", \"37\", \"50\", \"38\", \"17\", \"7\", \"6\"], \"xaxis\": \"x\", \"y\": [0.0, 6.669972663075896e-06, 9.893675269267987e-06, 1.0036372259492055e-05, 1.005396006803494e-05, 1.0495684364286717e-05, 1.2177823009551503e-05, 1.2192892427265178e-05, 1.3872338968212716e-05, 1.4208639186108485e-05, 1.4659819498774596e-05, 1.5749872545711696e-05, 1.711603908916004e-05, 1.7177173504023813e-05, 1.7262940673390403e-05, 1.7791817299439572e-05, 1.8697928680921905e-05, 1.9119530406896956e-05, 1.9518231056281365e-05, 1.9522740331012756e-05, 1.9736553440452553e-05, 2.006063914450351e-05, 2.0885532649117522e-05, 2.1149873646209016e-05, 2.2379581423592754e-05, 2.297634637216106e-05, 2.306118949491065e-05, 2.3510161554440856e-05, 2.4090033548418432e-05, 2.439443596813362e-05, 2.442249024170451e-05, 2.4804225176922046e-05, 2.7159243472851813e-05, 2.986365871038288e-05, 4.026171154691838e-05, 4.4640932173933834e-05, 4.616746446117759e-05, 5.046040314482525e-05, 6.403520819731057e-05, 6.831729842815548e-05, 7.333550456678495e-05, 8.05844902060926e-05, 9.508223593002185e-05, 0.00010501074575586244, 0.0001235754752997309, 0.00012893731764052063, 0.00018454028759151697, 0.00022269944020081311, 0.0002879327512346208, 0.00031582501833327115, 0.00032025197288021445, 0.00797262229025364, 99.98917388916016], \"yaxis\": \"y\"}],                        {\"barmode\": \"relative\", \"legend\": {\"tracegroupgap\": 0}, \"margin\": {\"t\": 60}, \"template\": {\"data\": {\"bar\": [{\"error_x\": {\"color\": \"#2a3f5f\"}, \"error_y\": {\"color\": \"#2a3f5f\"}, \"marker\": {\"line\": {\"color\": \"#E5ECF6\", \"width\": 0.5}}, \"type\": \"bar\"}], \"barpolar\": [{\"marker\": {\"line\": {\"color\": \"#E5ECF6\", \"width\": 0.5}}, \"type\": \"barpolar\"}], \"carpet\": [{\"aaxis\": {\"endlinecolor\": \"#2a3f5f\", \"gridcolor\": \"white\", \"linecolor\": \"white\", \"minorgridcolor\": \"white\", \"startlinecolor\": \"#2a3f5f\"}, \"baxis\": {\"endlinecolor\": \"#2a3f5f\", \"gridcolor\": \"white\", \"linecolor\": \"white\", \"minorgridcolor\": \"white\", \"startlinecolor\": \"#2a3f5f\"}, \"type\": \"carpet\"}], \"choropleth\": [{\"colorbar\": {\"outlinewidth\": 0, \"ticks\": \"\"}, \"type\": \"choropleth\"}], \"contour\": [{\"colorbar\": {\"outlinewidth\": 0, \"ticks\": \"\"}, \"colorscale\": [[0.0, \"#0d0887\"], [0.1111111111111111, \"#46039f\"], [0.2222222222222222, \"#7201a8\"], [0.3333333333333333, \"#9c179e\"], [0.4444444444444444, \"#bd3786\"], [0.5555555555555556, \"#d8576b\"], [0.6666666666666666, \"#ed7953\"], [0.7777777777777778, \"#fb9f3a\"], [0.8888888888888888, \"#fdca26\"], [1.0, \"#f0f921\"]], \"type\": \"contour\"}], \"contourcarpet\": [{\"colorbar\": {\"outlinewidth\": 0, \"ticks\": \"\"}, \"type\": \"contourcarpet\"}], \"heatmap\": [{\"colorbar\": {\"outlinewidth\": 0, \"ticks\": \"\"}, \"colorscale\": [[0.0, \"#0d0887\"], [0.1111111111111111, \"#46039f\"], [0.2222222222222222, \"#7201a8\"], [0.3333333333333333, \"#9c179e\"], [0.4444444444444444, \"#bd3786\"], [0.5555555555555556, \"#d8576b\"], [0.6666666666666666, \"#ed7953\"], [0.7777777777777778, \"#fb9f3a\"], [0.8888888888888888, \"#fdca26\"], [1.0, \"#f0f921\"]], \"type\": \"heatmap\"}], \"heatmapgl\": [{\"colorbar\": {\"outlinewidth\": 0, \"ticks\": \"\"}, \"colorscale\": [[0.0, \"#0d0887\"], [0.1111111111111111, \"#46039f\"], [0.2222222222222222, \"#7201a8\"], [0.3333333333333333, \"#9c179e\"], [0.4444444444444444, \"#bd3786\"], [0.5555555555555556, \"#d8576b\"], [0.6666666666666666, \"#ed7953\"], [0.7777777777777778, \"#fb9f3a\"], [0.8888888888888888, \"#fdca26\"], [1.0, \"#f0f921\"]], \"type\": \"heatmapgl\"}], \"histogram\": [{\"marker\": {\"colorbar\": {\"outlinewidth\": 0, \"ticks\": \"\"}}, \"type\": \"histogram\"}], \"histogram2d\": [{\"colorbar\": {\"outlinewidth\": 0, \"ticks\": \"\"}, \"colorscale\": [[0.0, \"#0d0887\"], [0.1111111111111111, \"#46039f\"], [0.2222222222222222, \"#7201a8\"], [0.3333333333333333, \"#9c179e\"], [0.4444444444444444, \"#bd3786\"], [0.5555555555555556, \"#d8576b\"], [0.6666666666666666, \"#ed7953\"], [0.7777777777777778, \"#fb9f3a\"], [0.8888888888888888, \"#fdca26\"], [1.0, \"#f0f921\"]], \"type\": \"histogram2d\"}], \"histogram2dcontour\": [{\"colorbar\": {\"outlinewidth\": 0, \"ticks\": \"\"}, \"colorscale\": [[0.0, \"#0d0887\"], [0.1111111111111111, \"#46039f\"], [0.2222222222222222, \"#7201a8\"], [0.3333333333333333, \"#9c179e\"], [0.4444444444444444, \"#bd3786\"], [0.5555555555555556, \"#d8576b\"], [0.6666666666666666, \"#ed7953\"], [0.7777777777777778, \"#fb9f3a\"], [0.8888888888888888, \"#fdca26\"], [1.0, \"#f0f921\"]], \"type\": \"histogram2dcontour\"}], \"mesh3d\": [{\"colorbar\": {\"outlinewidth\": 0, \"ticks\": \"\"}, \"type\": \"mesh3d\"}], \"parcoords\": [{\"line\": {\"colorbar\": {\"outlinewidth\": 0, \"ticks\": \"\"}}, \"type\": \"parcoords\"}], \"pie\": [{\"automargin\": true, \"type\": \"pie\"}], \"scatter\": [{\"marker\": {\"colorbar\": {\"outlinewidth\": 0, \"ticks\": \"\"}}, \"type\": \"scatter\"}], \"scatter3d\": [{\"line\": {\"colorbar\": {\"outlinewidth\": 0, \"ticks\": \"\"}}, \"marker\": {\"colorbar\": {\"outlinewidth\": 0, \"ticks\": \"\"}}, \"type\": \"scatter3d\"}], \"scattercarpet\": [{\"marker\": {\"colorbar\": {\"outlinewidth\": 0, \"ticks\": \"\"}}, \"type\": \"scattercarpet\"}], \"scattergeo\": [{\"marker\": {\"colorbar\": {\"outlinewidth\": 0, \"ticks\": \"\"}}, \"type\": \"scattergeo\"}], \"scattergl\": [{\"marker\": {\"colorbar\": {\"outlinewidth\": 0, \"ticks\": \"\"}}, \"type\": \"scattergl\"}], \"scattermapbox\": [{\"marker\": {\"colorbar\": {\"outlinewidth\": 0, \"ticks\": \"\"}}, \"type\": \"scattermapbox\"}], \"scatterpolar\": [{\"marker\": {\"colorbar\": {\"outlinewidth\": 0, \"ticks\": \"\"}}, \"type\": \"scatterpolar\"}], \"scatterpolargl\": [{\"marker\": {\"colorbar\": {\"outlinewidth\": 0, \"ticks\": \"\"}}, \"type\": \"scatterpolargl\"}], \"scatterternary\": [{\"marker\": {\"colorbar\": {\"outlinewidth\": 0, \"ticks\": \"\"}}, \"type\": \"scatterternary\"}], \"surface\": [{\"colorbar\": {\"outlinewidth\": 0, \"ticks\": \"\"}, \"colorscale\": [[0.0, \"#0d0887\"], [0.1111111111111111, \"#46039f\"], [0.2222222222222222, \"#7201a8\"], [0.3333333333333333, \"#9c179e\"], [0.4444444444444444, \"#bd3786\"], [0.5555555555555556, \"#d8576b\"], [0.6666666666666666, \"#ed7953\"], [0.7777777777777778, \"#fb9f3a\"], [0.8888888888888888, \"#fdca26\"], [1.0, \"#f0f921\"]], \"type\": \"surface\"}], \"table\": [{\"cells\": {\"fill\": {\"color\": \"#EBF0F8\"}, \"line\": {\"color\": \"white\"}}, \"header\": {\"fill\": {\"color\": \"#C8D4E3\"}, \"line\": {\"color\": \"white\"}}, \"type\": \"table\"}]}, \"layout\": {\"annotationdefaults\": {\"arrowcolor\": \"#2a3f5f\", \"arrowhead\": 0, \"arrowwidth\": 1}, \"coloraxis\": {\"colorbar\": {\"outlinewidth\": 0, \"ticks\": \"\"}}, \"colorscale\": {\"diverging\": [[0, \"#8e0152\"], [0.1, \"#c51b7d\"], [0.2, \"#de77ae\"], [0.3, \"#f1b6da\"], [0.4, \"#fde0ef\"], [0.5, \"#f7f7f7\"], [0.6, \"#e6f5d0\"], [0.7, \"#b8e186\"], [0.8, \"#7fbc41\"], [0.9, \"#4d9221\"], [1, \"#276419\"]], \"sequential\": [[0.0, \"#0d0887\"], [0.1111111111111111, \"#46039f\"], [0.2222222222222222, \"#7201a8\"], [0.3333333333333333, \"#9c179e\"], [0.4444444444444444, \"#bd3786\"], [0.5555555555555556, \"#d8576b\"], [0.6666666666666666, \"#ed7953\"], [0.7777777777777778, \"#fb9f3a\"], [0.8888888888888888, \"#fdca26\"], [1.0, \"#f0f921\"]], \"sequentialminus\": [[0.0, \"#0d0887\"], [0.1111111111111111, \"#46039f\"], [0.2222222222222222, \"#7201a8\"], [0.3333333333333333, \"#9c179e\"], [0.4444444444444444, \"#bd3786\"], [0.5555555555555556, \"#d8576b\"], [0.6666666666666666, \"#ed7953\"], [0.7777777777777778, \"#fb9f3a\"], [0.8888888888888888, \"#fdca26\"], [1.0, \"#f0f921\"]]}, \"colorway\": [\"#636efa\", \"#EF553B\", \"#00cc96\", \"#ab63fa\", \"#FFA15A\", \"#19d3f3\", \"#FF6692\", \"#B6E880\", \"#FF97FF\", \"#FECB52\"], \"font\": {\"color\": \"#2a3f5f\"}, \"geo\": {\"bgcolor\": \"white\", \"lakecolor\": \"white\", \"landcolor\": \"#E5ECF6\", \"showlakes\": true, \"showland\": true, \"subunitcolor\": \"white\"}, \"hoverlabel\": {\"align\": \"left\"}, \"hovermode\": \"closest\", \"mapbox\": {\"style\": \"light\"}, \"paper_bgcolor\": \"white\", \"plot_bgcolor\": \"#E5ECF6\", \"polar\": {\"angularaxis\": {\"gridcolor\": \"white\", \"linecolor\": \"white\", \"ticks\": \"\"}, \"bgcolor\": \"#E5ECF6\", \"radialaxis\": {\"gridcolor\": \"white\", \"linecolor\": \"white\", \"ticks\": \"\"}}, \"scene\": {\"xaxis\": {\"backgroundcolor\": \"#E5ECF6\", \"gridcolor\": \"white\", \"gridwidth\": 2, \"linecolor\": \"white\", \"showbackground\": true, \"ticks\": \"\", \"zerolinecolor\": \"white\"}, \"yaxis\": {\"backgroundcolor\": \"#E5ECF6\", \"gridcolor\": \"white\", \"gridwidth\": 2, \"linecolor\": \"white\", \"showbackground\": true, \"ticks\": \"\", \"zerolinecolor\": \"white\"}, \"zaxis\": {\"backgroundcolor\": \"#E5ECF6\", \"gridcolor\": \"white\", \"gridwidth\": 2, \"linecolor\": \"white\", \"showbackground\": true, \"ticks\": \"\", \"zerolinecolor\": \"white\"}}, \"shapedefaults\": {\"line\": {\"color\": \"#2a3f5f\"}}, \"ternary\": {\"aaxis\": {\"gridcolor\": \"white\", \"linecolor\": \"white\", \"ticks\": \"\"}, \"baxis\": {\"gridcolor\": \"white\", \"linecolor\": \"white\", \"ticks\": \"\"}, \"bgcolor\": \"#E5ECF6\", \"caxis\": {\"gridcolor\": \"white\", \"linecolor\": \"white\", \"ticks\": \"\"}}, \"title\": {\"x\": 0.05}, \"xaxis\": {\"automargin\": true, \"gridcolor\": \"white\", \"linecolor\": \"white\", \"ticks\": \"\", \"title\": {\"standoff\": 15}, \"zerolinecolor\": \"white\", \"zerolinewidth\": 2}, \"yaxis\": {\"automargin\": true, \"gridcolor\": \"white\", \"linecolor\": \"white\", \"ticks\": \"\", \"title\": {\"standoff\": 15}, \"zerolinecolor\": \"white\", \"zerolinewidth\": 2}}}, \"xaxis\": {\"anchor\": \"y\", \"domain\": [0.0, 1.0], \"title\": {\"text\": \"feature\"}}, \"yaxis\": {\"anchor\": \"x\", \"domain\": [0.0, 1.0], \"title\": {\"text\": \"importance\"}}},                        {\"responsive\": true}                    ).then(function(){\n",
       "                            \n",
       "var gd = document.getElementById('35e38c47-06a4-4316-bf6f-218805660045');\n",
       "var x = new MutationObserver(function (mutations, observer) {{\n",
       "        var display = window.getComputedStyle(gd).display;\n",
       "        if (!display || display === 'none') {{\n",
       "            console.log([gd, 'removed!']);\n",
       "            Plotly.purge(gd);\n",
       "            observer.disconnect();\n",
       "        }}\n",
       "}});\n",
       "\n",
       "// Listen for the removal of the full notebook cells\n",
       "var notebookContainer = gd.closest('#notebook-container');\n",
       "if (notebookContainer) {{\n",
       "    x.observe(notebookContainer, {childList: true});\n",
       "}}\n",
       "\n",
       "// Listen for the clearing of the current output cell\n",
       "var outputEl = gd.closest('.output');\n",
       "if (outputEl) {{\n",
       "    x.observe(outputEl, {childList: true});\n",
       "}}\n",
       "\n",
       "                        })                };                });            </script>        </div>"
      ]
     },
     "metadata": {},
     "output_type": "display_data"
    }
   ],
   "source": [
    "def plot_features(booster):    \n",
    "    importance = pd.DataFrame({'importance': model.feature_importances_*100, 'feature' : data.drop('target', axis=1).columns})\n",
    "    fig = px.bar(importance.sort_values(by='importance', ascending=True), \n",
    "                 x = 'feature', y = 'importance')\n",
    "    fig.show()\n",
    "  \n",
    "print(*[{index: val} for index, val in enumerate(model.feature_importances_) if val > 0.00001])\n",
    "plot_features(model)"
   ]
  },
  {
   "cell_type": "markdown",
   "metadata": {},
   "source": [
    "So let's now look again at the data, but only at 6, 7 and target columns. But previoulsy let's sort target for a better representation"
   ]
  },
  {
   "cell_type": "code",
   "execution_count": 58,
   "metadata": {
    "scrolled": false
   },
   "outputs": [
    {
     "data": {
      "text/html": [
       "<div>\n",
       "<style scoped>\n",
       "    .dataframe tbody tr th:only-of-type {\n",
       "        vertical-align: middle;\n",
       "    }\n",
       "\n",
       "    .dataframe tbody tr th {\n",
       "        vertical-align: top;\n",
       "    }\n",
       "\n",
       "    .dataframe thead th {\n",
       "        text-align: right;\n",
       "    }\n",
       "</style>\n",
       "<table border=\"1\" class=\"dataframe\">\n",
       "  <thead>\n",
       "    <tr style=\"text-align: right;\">\n",
       "      <th></th>\n",
       "      <th>6</th>\n",
       "      <th>7</th>\n",
       "      <th>target</th>\n",
       "    </tr>\n",
       "  </thead>\n",
       "  <tbody>\n",
       "    <tr>\n",
       "      <th>68617</th>\n",
       "      <td>-0.0</td>\n",
       "      <td>0.002634</td>\n",
       "      <td>0.002634</td>\n",
       "    </tr>\n",
       "    <tr>\n",
       "      <th>41272</th>\n",
       "      <td>-0.0</td>\n",
       "      <td>0.002749</td>\n",
       "      <td>0.002749</td>\n",
       "    </tr>\n",
       "    <tr>\n",
       "      <th>34873</th>\n",
       "      <td>-0.0</td>\n",
       "      <td>0.003404</td>\n",
       "      <td>0.003404</td>\n",
       "    </tr>\n",
       "    <tr>\n",
       "      <th>58854</th>\n",
       "      <td>0.0</td>\n",
       "      <td>0.004395</td>\n",
       "      <td>0.004395</td>\n",
       "    </tr>\n",
       "    <tr>\n",
       "      <th>49569</th>\n",
       "      <td>-0.0</td>\n",
       "      <td>0.005463</td>\n",
       "      <td>0.005463</td>\n",
       "    </tr>\n",
       "    <tr>\n",
       "      <th>41288</th>\n",
       "      <td>0.0</td>\n",
       "      <td>0.008721</td>\n",
       "      <td>0.008721</td>\n",
       "    </tr>\n",
       "    <tr>\n",
       "      <th>60319</th>\n",
       "      <td>-0.0</td>\n",
       "      <td>0.009273</td>\n",
       "      <td>0.009273</td>\n",
       "    </tr>\n",
       "    <tr>\n",
       "      <th>48430</th>\n",
       "      <td>0.0</td>\n",
       "      <td>0.014745</td>\n",
       "      <td>0.014745</td>\n",
       "    </tr>\n",
       "    <tr>\n",
       "      <th>45866</th>\n",
       "      <td>0.0</td>\n",
       "      <td>0.016212</td>\n",
       "      <td>0.016212</td>\n",
       "    </tr>\n",
       "    <tr>\n",
       "      <th>71284</th>\n",
       "      <td>-0.0</td>\n",
       "      <td>0.017221</td>\n",
       "      <td>0.017221</td>\n",
       "    </tr>\n",
       "    <tr>\n",
       "      <th>30788</th>\n",
       "      <td>0.0</td>\n",
       "      <td>0.020928</td>\n",
       "      <td>0.020928</td>\n",
       "    </tr>\n",
       "    <tr>\n",
       "      <th>80728</th>\n",
       "      <td>-0.0</td>\n",
       "      <td>0.021728</td>\n",
       "      <td>0.021728</td>\n",
       "    </tr>\n",
       "    <tr>\n",
       "      <th>3698</th>\n",
       "      <td>-0.0</td>\n",
       "      <td>0.024726</td>\n",
       "      <td>0.024726</td>\n",
       "    </tr>\n",
       "    <tr>\n",
       "      <th>20788</th>\n",
       "      <td>-0.0</td>\n",
       "      <td>0.025718</td>\n",
       "      <td>0.025718</td>\n",
       "    </tr>\n",
       "    <tr>\n",
       "      <th>18965</th>\n",
       "      <td>-0.0</td>\n",
       "      <td>0.026404</td>\n",
       "      <td>0.026404</td>\n",
       "    </tr>\n",
       "  </tbody>\n",
       "</table>\n",
       "</div>"
      ],
      "text/plain": [
       "         6         7    target\n",
       "68617 -0.0  0.002634  0.002634\n",
       "41272 -0.0  0.002749  0.002749\n",
       "34873 -0.0  0.003404  0.003404\n",
       "58854  0.0  0.004395  0.004395\n",
       "49569 -0.0  0.005463  0.005463\n",
       "41288  0.0  0.008721  0.008721\n",
       "60319 -0.0  0.009273  0.009273\n",
       "48430  0.0  0.014745  0.014745\n",
       "45866  0.0  0.016212  0.016212\n",
       "71284 -0.0  0.017221  0.017221\n",
       "30788  0.0  0.020928  0.020928\n",
       "80728 -0.0  0.021728  0.021728\n",
       "3698  -0.0  0.024726  0.024726\n",
       "20788 -0.0  0.025718  0.025718\n",
       "18965 -0.0  0.026404  0.026404"
      ]
     },
     "execution_count": 58,
     "metadata": {},
     "output_type": "execute_result"
    }
   ],
   "source": [
    "data.sort_values(by=['target'], axis = 0)[['6','7','target']][:15]"
   ]
  },
  {
   "cell_type": "markdown",
   "metadata": {},
   "source": [
    "Now we can clearly see, that the fractional part is equal to 7 column and integer part - 6th column to square "
   ]
  },
  {
   "cell_type": "code",
   "execution_count": 59,
   "metadata": {},
   "outputs": [
    {
     "data": {
      "text/html": [
       "<div>\n",
       "<style scoped>\n",
       "    .dataframe tbody tr th:only-of-type {\n",
       "        vertical-align: middle;\n",
       "    }\n",
       "\n",
       "    .dataframe tbody tr th {\n",
       "        vertical-align: top;\n",
       "    }\n",
       "\n",
       "    .dataframe thead th {\n",
       "        text-align: right;\n",
       "    }\n",
       "</style>\n",
       "<table border=\"1\" class=\"dataframe\">\n",
       "  <thead>\n",
       "    <tr style=\"text-align: right;\">\n",
       "      <th></th>\n",
       "      <th>6</th>\n",
       "      <th>7</th>\n",
       "      <th>target</th>\n",
       "    </tr>\n",
       "  </thead>\n",
       "  <tbody>\n",
       "    <tr>\n",
       "      <th>8889</th>\n",
       "      <td>-4.690416</td>\n",
       "      <td>0.200876</td>\n",
       "      <td>22.200876</td>\n",
       "    </tr>\n",
       "    <tr>\n",
       "      <th>60058</th>\n",
       "      <td>4.690416</td>\n",
       "      <td>0.201416</td>\n",
       "      <td>22.201416</td>\n",
       "    </tr>\n",
       "    <tr>\n",
       "      <th>44255</th>\n",
       "      <td>-4.690416</td>\n",
       "      <td>0.202935</td>\n",
       "      <td>22.202935</td>\n",
       "    </tr>\n",
       "    <tr>\n",
       "      <th>48282</th>\n",
       "      <td>-4.690416</td>\n",
       "      <td>0.203897</td>\n",
       "      <td>22.203897</td>\n",
       "    </tr>\n",
       "    <tr>\n",
       "      <th>46959</th>\n",
       "      <td>4.690416</td>\n",
       "      <td>0.204015</td>\n",
       "      <td>22.204015</td>\n",
       "    </tr>\n",
       "    <tr>\n",
       "      <th>40195</th>\n",
       "      <td>-4.690416</td>\n",
       "      <td>0.206360</td>\n",
       "      <td>22.206360</td>\n",
       "    </tr>\n",
       "    <tr>\n",
       "      <th>66652</th>\n",
       "      <td>4.690416</td>\n",
       "      <td>0.206730</td>\n",
       "      <td>22.206730</td>\n",
       "    </tr>\n",
       "    <tr>\n",
       "      <th>70224</th>\n",
       "      <td>-4.690416</td>\n",
       "      <td>0.206916</td>\n",
       "      <td>22.206916</td>\n",
       "    </tr>\n",
       "    <tr>\n",
       "      <th>58035</th>\n",
       "      <td>4.690416</td>\n",
       "      <td>0.207501</td>\n",
       "      <td>22.207501</td>\n",
       "    </tr>\n",
       "    <tr>\n",
       "      <th>89253</th>\n",
       "      <td>-4.690416</td>\n",
       "      <td>0.208917</td>\n",
       "      <td>22.208917</td>\n",
       "    </tr>\n",
       "    <tr>\n",
       "      <th>78187</th>\n",
       "      <td>-4.690416</td>\n",
       "      <td>0.209964</td>\n",
       "      <td>22.209964</td>\n",
       "    </tr>\n",
       "    <tr>\n",
       "      <th>75623</th>\n",
       "      <td>-4.690416</td>\n",
       "      <td>0.210745</td>\n",
       "      <td>22.210745</td>\n",
       "    </tr>\n",
       "    <tr>\n",
       "      <th>50810</th>\n",
       "      <td>-4.690416</td>\n",
       "      <td>0.211297</td>\n",
       "      <td>22.211297</td>\n",
       "    </tr>\n",
       "    <tr>\n",
       "      <th>5521</th>\n",
       "      <td>4.690416</td>\n",
       "      <td>0.212543</td>\n",
       "      <td>22.212543</td>\n",
       "    </tr>\n",
       "    <tr>\n",
       "      <th>16183</th>\n",
       "      <td>-4.690416</td>\n",
       "      <td>0.213604</td>\n",
       "      <td>22.213604</td>\n",
       "    </tr>\n",
       "  </tbody>\n",
       "</table>\n",
       "</div>"
      ],
      "text/plain": [
       "              6         7     target\n",
       "8889  -4.690416  0.200876  22.200876\n",
       "60058  4.690416  0.201416  22.201416\n",
       "44255 -4.690416  0.202935  22.202935\n",
       "48282 -4.690416  0.203897  22.203897\n",
       "46959  4.690416  0.204015  22.204015\n",
       "40195 -4.690416  0.206360  22.206360\n",
       "66652  4.690416  0.206730  22.206730\n",
       "70224 -4.690416  0.206916  22.206916\n",
       "58035  4.690416  0.207501  22.207501\n",
       "89253 -4.690416  0.208917  22.208917\n",
       "78187 -4.690416  0.209964  22.209964\n",
       "75623 -4.690416  0.210745  22.210745\n",
       "50810 -4.690416  0.211297  22.211297\n",
       "5521   4.690416  0.212543  22.212543\n",
       "16183 -4.690416  0.213604  22.213604"
      ]
     },
     "execution_count": 59,
     "metadata": {},
     "output_type": "execute_result"
    }
   ],
   "source": [
    "data.sort_values(by=['target'], axis = 0)[['6','7','target']][20000:20015]"
   ]
  },
  {
   "cell_type": "markdown",
   "metadata": {},
   "source": [
    "Let's now check the theory"
   ]
  },
  {
   "cell_type": "code",
   "execution_count": 63,
   "metadata": {},
   "outputs": [],
   "source": [
    "def predict(df):\n",
    "    return df['6']**2 + df['7']"
   ]
  },
  {
   "cell_type": "markdown",
   "metadata": {},
   "source": [
    "Now we have much better result"
   ]
  },
  {
   "cell_type": "code",
   "execution_count": 64,
   "metadata": {},
   "outputs": [
    {
     "name": "stdout",
     "output_type": "stream",
     "text": [
      "1.3475705967581302e-14\n"
     ]
    }
   ],
   "source": [
    "sample_data = data.sample(10000)\n",
    "\n",
    "predictions = predict(sample_data)\n",
    "\n",
    "print(np.sqrt(mean_squared_error(predictions, sample_data['target'])))"
   ]
  },
  {
   "cell_type": "markdown",
   "metadata": {},
   "source": [
    "So now we can make predictions and send our targets to competition for verification"
   ]
  },
  {
   "cell_type": "code",
   "execution_count": 65,
   "metadata": {},
   "outputs": [],
   "source": [
    "test = pd.read_csv('internship_hidden_test.csv')\n",
    "predictions = predict(test)\n",
    "pred_transpose = predictions.T\n",
    "np.savetxt(\"target.csv\", pred_transpose, delimiter=\",\")"
   ]
  }
 ],
 "metadata": {
  "kernelspec": {
   "display_name": "Python 3",
   "language": "python",
   "name": "python3"
  },
  "language_info": {
   "codemirror_mode": {
    "name": "ipython",
    "version": 3
   },
   "file_extension": ".py",
   "mimetype": "text/x-python",
   "name": "python",
   "nbconvert_exporter": "python",
   "pygments_lexer": "ipython3",
   "version": "3.8.6"
  }
 },
 "nbformat": 4,
 "nbformat_minor": 4
}
